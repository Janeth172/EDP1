{
  "nbformat": 4,
  "nbformat_minor": 0,
  "metadata": {
    "colab": {
      "provenance": [],
      "authorship_tag": "ABX9TyN1rcySccxolPRt26/0DC6+",
      "include_colab_link": true
    },
    "kernelspec": {
      "name": "python3",
      "display_name": "Python 3"
    },
    "language_info": {
      "name": "python"
    }
  },
  "cells": [
    {
      "cell_type": "markdown",
      "metadata": {
        "id": "view-in-github",
        "colab_type": "text"
      },
      "source": [
        "<a href=\"https://colab.research.google.com/github/Janeth172/EDP1/blob/main/Formas_canonicas.ipynb\" target=\"_parent\"><img src=\"https://colab.research.google.com/assets/colab-badge.svg\" alt=\"Open In Colab\"/></a>"
      ]
    },
    {
      "cell_type": "markdown",
      "source": [
        "**FORMAS CANÓNICAS**\n",
        "\n",
        "Consideremos la ecuación diferencial parcial de segundo orden:\n",
        "\n",
        "$$\n",
        "U_{xx} - 3 U_{xy} + -10 U_{yy}  = 0$$\n",
        "\n",
        "Identificamos los coeficientes:\n",
        "\n",
        "$$\n",
        "A = 1, \\quad B = -3 , \\quad C = -10\n",
        "$$\n",
        "\n",
        "El discriminante es:\n",
        "\n",
        "$$\n",
        "\\Delta = B^2 - 4AC = 49$$\n",
        "\n",
        "Por lo tanto, el tipo de ecuación es:\n",
        "En este caso, como $\\Delta = 49 < 0$, la ecuación es hiperbólica\n",
        "\n",
        "Usamos las fórmulas para las nuevas coordenadas:\n",
        "\n",
        "$$\n",
        "\\xi = - \\left( B + \\sqrt{B^2 - 4AC} \\right) x + 2A y\n",
        "$$\n",
        "$$\n",
        "\\eta = - \\left( B - \\sqrt{B^2 - 4AC} \\right) x + 2A y\n",
        "$$\n",
        "\n",
        "Sustituyendo los valores:\n",
        "\n",
        "$$\n",
        "\\xi = - \\left( -2 + \\sqrt{(-2)^2 - 4(1)(4)} \\right) x + 2y = - \\left( -2 + \\sqrt{-12} \\right) x + 2y\n",
        "$$\n",
        "\n",
        "$$\n",
        "\\eta = - \\left( -2 - \\sqrt{(-2)^2 - 4(1)(4)} \\right) x + 2y = - \\left( -2 - \\sqrt{-12} \\right) x + 2y\n",
        "$$\n",
        "\n",
        "Observamos que al tener raíces, la ecuación es hiperbolica\n",
        "Después de aplicar el cambio de variables, la ecuación se puede expresar en su forma canónica como:\n",
        "\n",
        "$$\n",
        "\\frac{\\partial^2 U}{\\partial \\xi \\, \\partial \\eta} + \\text{(términos de primer orden)} = 0\n",
        "$$\n",
        "\n",
        "o simplemente como:\n",
        "\n",
        "$$\n",
        "U_{\\xi \\eta} + \\dots = 0\n",
        "$$\n"
      ],
      "metadata": {
        "id": "vSu5bGmHe8R-"
      }
    },
    {
      "cell_type": "code",
      "execution_count": 6,
      "metadata": {
        "colab": {
          "base_uri": "https://localhost:8080/",
          "height": 248
        },
        "id": "65mE4U89X_Nh",
        "outputId": "df161777-e5ba-410a-95dc-8a8270731f9a"
      },
      "outputs": [
        {
          "output_type": "stream",
          "name": "stdout",
          "text": [
            "Discriminante (Indicador): 49\n",
            "La ecuación es de tipo: Hiperbólica\n",
            "\n",
            "Transformación:\n",
            "ξ = -4*x + 2*y\n",
            "η = 10*x + 2*y\n",
            "\n",
            "La ecuación en forma canónica (hiperbólica) es:\n",
            "U_ξη + términos de primer orden = 0 (forma general)\n",
            "\n",
            "La EDP original es:\n"
          ]
        },
        {
          "output_type": "display_data",
          "data": {
            "text/plain": [
              "Eq(U(x, y) + 2*Derivative(U(x, y), x) + Derivative(U(x, y), (x, 2)) + Derivative(U(x, y), y) + 4*Derivative(U(x, y), (y, 2)) - 4*Derivative(U(x, y), x, y), 0)"
            ],
            "text/latex": "$\\displaystyle U{\\left(x,y \\right)} + 2 \\frac{\\partial}{\\partial x} U{\\left(x,y \\right)} + \\frac{\\partial^{2}}{\\partial x^{2}} U{\\left(x,y \\right)} + \\frac{\\partial}{\\partial y} U{\\left(x,y \\right)} + 4 \\frac{\\partial^{2}}{\\partial y^{2}} U{\\left(x,y \\right)} - 4 \\frac{\\partial^{2}}{\\partial y\\partial x} U{\\left(x,y \\right)} = 0$"
          },
          "metadata": {}
        }
      ],
      "source": [
        "# 📌 Paso 1: Calcular el discriminante y clasificar la ecuación\n",
        "import sympy as sp\n",
        "\n",
        "# Definimos las variables\n",
        "x, y = sp.symbols('x y')\n",
        "\n",
        "# Coeficientes de la EDP\n",
        "A = 1\n",
        "B = -3 # porque el término es -4 Uxy (2B = -4, entonces B = -2)\n",
        "C = -10\n",
        "\n",
        "# Discriminante (Indicador)\n",
        "discriminante = B**2 - 4*A*C\n",
        "print(f\"Discriminante (Indicador): {discriminante}\")\n",
        "\n",
        "if discriminante > 0:\n",
        "  tipo = \"Hiperbólica\"\n",
        "elif discriminante == 0:\n",
        "  tipo = \"Parabólica\"\n",
        "else:\n",
        "  tipo = \"Elíptica\"\n",
        "\n",
        "print(f\"La ecuación es de tipo: {tipo}\")\n",
        "\n",
        "# 📌 Paso 2: Transformación de coordenadas\n",
        "sqrtD = sp.sqrt(B**2 - 4*A*C)\n",
        "\n",
        "# Definimos las nuevas variables según las fórmulas\n",
        "xi = - (B + sqrtD) * x + 2 * A * y\n",
        "eta = - (B - sqrtD) * x + 2 * A * y\n",
        "\n",
        "print(f\"\\nTransformación:\")\n",
        "print(f\"ξ = {xi}\")\n",
        "print(f\"η = {eta}\")\n",
        "\n",
        "# 📌 Paso 3: EDP en forma canónica\n",
        "#la ecuación transformada será:\n",
        "# U_ξη + ... = 0\n",
        "\n",
        "print(\"\\nLa ecuación en forma canónica (hiperbólica) es:\")\n",
        "print(\"U_ξη + términos de primer orden = 0 (forma general)\")\n",
        "\n",
        "# También se puede mostrar la ecuación inicial completa:\n",
        "from sympy import Function, Eq\n",
        "\n",
        "U = Function('U')(x, y)\n",
        "\n",
        "EDP = sp.Eq(U.diff(x, 2) - 4 * U.diff(x, y) + 4 * U.diff(y, 2) + 2 * U.diff(x) + U.diff(y) + U, 0)\n",
        "print(\"\\nLa EDP original es:\")\n",
        "display(EDP)"
      ]
    }
  ]
}