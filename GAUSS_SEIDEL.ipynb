{
  "nbformat": 4,
  "nbformat_minor": 0,
  "metadata": {
    "colab": {
      "provenance": [],
      "authorship_tag": "ABX9TyPco1P6fvI8cDtGr0YCtv9o",
      "include_colab_link": true
    },
    "kernelspec": {
      "name": "python3",
      "display_name": "Python 3"
    },
    "language_info": {
      "name": "python"
    }
  },
  "cells": [
    {
      "cell_type": "markdown",
      "metadata": {
        "id": "view-in-github",
        "colab_type": "text"
      },
      "source": [
        "<a href=\"https://colab.research.google.com/github/Janeth172/EDP1/blob/main/GAUSS_SEIDEL.ipynb\" target=\"_parent\"><img src=\"https://colab.research.google.com/assets/colab-badge.svg\" alt=\"Open In Colab\"/></a>"
      ]
    },
    {
      "cell_type": "markdown",
      "source": [
        "**METÓDO ITERATIVO DE GAUSS-SEIDEL**\n",
        "\n",
        "$$\n",
        "u(0,y) = 0,\n",
        "\\quad\n",
        "u(2,y) = y(2-y), \\quad 0 < y < 2\n",
        "$$\n",
        "\n",
        "$$\n",
        "u(x,0) = 0,\n",
        "\\quad\n",
        "u(x,2) =\n",
        "\\begin{cases}\n",
        "x, & 0 < x < 1 \\\\[6pt]\n",
        "2 - x, & 1 \\leq x < 2\n",
        "\\end{cases}\n",
        "$$\n",
        "\n",
        "$$\n",
        "\\text{tamaño de la malla } h = \\tfrac{1}{2}.\n",
        "$$"
      ],
      "metadata": {
        "id": "x4d3fP4D9fkO"
      }
    },
    {
      "cell_type": "markdown",
      "source": [
        "Dado un sistema lineal\n",
        "$$\n",
        "A x = b,\n",
        "\\quad A \\in \\mathbb{R}^{n \\times n}, \\; b \\in \\mathbb{R}^n,\n",
        "$$\n",
        "con una aproximación inicial $x^{(0)}$, el método de Gauss--Seidel actualiza las componentes de $x^{(k)}$ de la forma\n",
        "$$\n",
        "x^{(k+1)}_i \\;=\\; \\frac{1}{a_{ii}}\n",
        "\\left( b_i - \\sum_{j=1}^{i-1} a_{ij} \\, x^{(k+1)}_j - \\sum_{j=i+1}^{n} a_{ij} \\, x^{(k)}_j \\right),\n",
        "\\quad i = 1, 2, \\dots, n.\n",
        "$$\n",
        "\n",
        "El proceso se repite hasta que se cumple el criterio de paro\n",
        "$$\n",
        "\\| x^{(k+1)} - x^{(k)} \\|_{\\infty} < \\text{tol},\n",
        "$$\n",
        "o hasta alcanzar el número máximo de iteraciones.\n",
        "\n",
        "\\subsection*{Sistema a resolver}\n",
        "\n",
        "$$\n",
        "A = \\begin{bmatrix}\n",
        "-4 & 1 & 0 & 1 & 0 & 0 & 0 & 0 & 0 \\\\\n",
        "1 & -4 & 1 & 0 & 1 & 0 & 0 & 0 & 0 \\\\\n",
        "0 & 1 & -4 & 0 & 0 & 1 & 0 & 0 & 0 \\\\\n",
        "1 & 0 & 0 & -4 & 1 & 0 & 1 & 0 & 0 \\\\\n",
        "0 & 1 & 0 & 1 & -4 & 1 & 0 & 1 & 0 \\\\\n",
        "0 & 0 & 1 & 0 & 1 & -4 & 0 & 0 & 1 \\\\\n",
        "0 & 0 & 0 & 1 & 0 & 1 & -4 & 1 & 0 \\\\\n",
        "0 & 0 & 0 & 0 & 1 & 0 & 1 & -4 & 1 \\\\\n",
        "0 & 0 & 0 & 0 & 0 & 1 & 0 & 1 & -4\n",
        "\\end{bmatrix},\n",
        "\\qquad\n",
        "b = \\begin{bmatrix}\n",
        "0 \\\\ 0 \\\\ -1 \\\\ 0 \\\\ 0 \\\\ -2 \\\\ -1 \\\\ 0 \\\\ 4\n",
        "\\end{bmatrix}.\n",
        "$$\n",
        "\n",
        "Aproximación inicial:\n",
        "$$\n",
        "x^{(0)} =\n",
        "\\begin{bmatrix}\n",
        "0 & 0 & 0 & 0 & 0 & 0 & 0 & 0 & 0\n",
        "\\end{bmatrix}^T.\n",
        "$$"
      ],
      "metadata": {
        "id": "BfLJCPLW-GIp"
      }
    },
    {
      "cell_type": "code",
      "execution_count": 3,
      "metadata": {
        "colab": {
          "base_uri": "https://localhost:8080/"
        },
        "id": "wW2pcI_u86T6",
        "outputId": "acc44cac-bfc2-47b3-ca40-122cd1980453"
      },
      "outputs": [
        {
          "output_type": "stream",
          "name": "stdout",
          "text": [
            " iter        x1        x2       x3        x4        x5       x6       x7        x8        x9\n",
            "    0  0.000000  0.000000 0.000000  0.000000  0.000000 0.000000 0.000000  0.000000  0.000000\n",
            "    1 -0.000000 -0.000000 0.250000 -0.000000 -0.000000 0.562500 0.390625  0.097656 -0.834961\n",
            "    2 -0.000000  0.062500 0.406250  0.097656  0.205078 0.444092 0.409851 -0.055008 -0.902729\n",
            "    3  0.040039  0.162842 0.401733  0.163742  0.178917 0.419480 0.382054 -0.085440 -0.916490\n",
            "    4  0.081646  0.165574 0.396264  0.160654  0.165067 0.411210 0.371606 -0.094954 -0.920936\n",
            "    5  0.081557  0.160722 0.392983  0.154558  0.157884 0.407483 0.366772 -0.099070 -0.922897\n",
            "    6  0.078820  0.157422 0.391226  0.150869  0.154176 0.405626 0.364356 -0.101091 -0.923866\n",
            "    7  0.077073  0.155619 0.390311  0.148901  0.152264 0.404677 0.363122 -0.102120 -0.924361\n",
            "    8  0.076130  0.154676 0.389838  0.147879  0.151278 0.404189 0.362487 -0.102649 -0.924615\n",
            "    9  0.075639  0.154189 0.389594  0.147351  0.150770 0.403937 0.362160 -0.102921 -0.924746\n",
            "   10  0.075385  0.153937 0.389469  0.147079  0.150508 0.403808 0.361991 -0.103062 -0.924814\n",
            "   11  0.075254  0.153808 0.389404  0.146938  0.150373 0.403741 0.361904 -0.103134 -0.924848\n",
            "   12  0.075186  0.153741 0.389370  0.146866  0.150303 0.403706 0.361860 -0.103171 -0.924866\n",
            "   13  0.075152  0.153706 0.389353  0.146829  0.150268 0.403689 0.361836 -0.103191 -0.924875\n",
            "   14  0.075134  0.153689 0.389344  0.146809  0.150249 0.403679 0.361825 -0.103200 -0.924880\n",
            "   15  0.075125  0.153679 0.389340  0.146800  0.150239 0.403675 0.361818 -0.103206 -0.924883\n",
            "   16  0.075120  0.153675 0.389337  0.146794  0.150235 0.403672 0.361815 -0.103208 -0.924884\n",
            "   17  0.075117  0.153672 0.389336  0.146792  0.150232 0.403671 0.361814 -0.103210 -0.924885\n",
            "   18  0.075116  0.153671 0.389336  0.146790  0.150231 0.403670 0.361813 -0.103210 -0.924885\n",
            "   19  0.075115  0.153670 0.389335  0.146790  0.150230 0.403670 0.361812 -0.103211 -0.924885\n",
            "\n",
            "Solución aproximada X = [ 0.07511537  0.15367041  0.38933521  0.14678974  0.15023007  0.40367008\n",
            "  0.36181239 -0.10321063 -0.92488514]\n"
          ]
        },
        {
          "output_type": "execute_result",
          "data": {
            "text/plain": [
              "array([ 0.07511537,  0.15367041,  0.38933521,  0.14678974,  0.15023007,\n",
              "        0.40367008,  0.36181239, -0.10321063, -0.92488514])"
            ]
          },
          "metadata": {},
          "execution_count": 3
        }
      ],
      "source": [
        "import numpy as np\n",
        "import pandas as pd\n",
        "\n",
        "def gauss_seidel(A, b, x0, tol=1e-6, max_iter=100):\n",
        "    \"\"\"\n",
        "    Método de Gauss-Seidel para resolver Ax = b\n",
        "    \"\"\"\n",
        "    n = len(b)\n",
        "    x = x0.copy()\n",
        "\n",
        "    # Guardamos resultados en lista\n",
        "    resultados = []\n",
        "    resultados.append([0] + list(x0))  # Iteración inicial\n",
        "\n",
        "    for k in range(1, max_iter+1):\n",
        "        x_new = np.copy(x)\n",
        "\n",
        "        for i in range(n):\n",
        "            suma1 = sum(A[i][j] * x_new[j] for j in range(i))\n",
        "            suma2 = sum(A[i][j] * x[j] for j in range(i+1, n))\n",
        "            x_new[i] = (b[i] - suma1 - suma2) / A[i][i]\n",
        "\n",
        "        resultados.append([k] + list(x_new))\n",
        "\n",
        "        # Se verifica criterio de paro\n",
        "        if np.linalg.norm(x_new - x, ord=np.inf) < tol:\n",
        "            cols = [\"iter\"] + [f\"x{i+1}\" for i in range(n)]\n",
        "            df = pd.DataFrame(resultados, columns=cols)\n",
        "            print(df.to_string(index=False, float_format=\"%.6f\"))\n",
        "            print(f\"\\nSolución aproximada X = {x_new}\")\n",
        "            return x_new\n",
        "\n",
        "        x = x_new\n",
        "\n",
        "    # Si no converge\n",
        "    cols = [\"iter\"] + [f\"x{i+1}\" for i in range(n)]\n",
        "    df = pd.DataFrame(resultados, columns=cols)\n",
        "    print(df.to_string(index=False, float_format=\"%.6f\"))\n",
        "    print(\"\\nNúmero máximo de iteraciones excedido.\")\n",
        "    print(f\"Última aproximación X = {x}\")\n",
        "    return x\n",
        "\n",
        "\n",
        "# se escribe aquí el sistema\n",
        "A = np.array([[-4, 1, 0, 1, 0, 0, 0, 0, 0],\n",
        "              [1, -4, 1, 0, 1, 0, 0, 0, 0],\n",
        "              [0, 1, -4, 0, 0, 1, 0, 0, 0],\n",
        "              [1, 0, 0, -4, 1, 0, 1, 0, 0],\n",
        "              [0, 1, 0, 1, -4, 1, 0, 1, 0],\n",
        "              [0, 0, 1, 0, 1, -4, 0, 0, 1],\n",
        "              [0, 0, 0, 1, 0, 1, -4, 1, 0],\n",
        "              [0, 0, 0, 0, 1, 0, 1, -4, 1],\n",
        "              [0, 0, 0, 0, 0, 1, 0, 1, -4]])\n",
        "\n",
        "b = np.array([0, 0, -1, 0, 0, -2, -1, 0, 4])\n",
        "\n",
        "x0 = np.zeros(len(b))   # Aproximación inicial\n",
        "\n",
        "gauss_seidel(A, b, x0, tol=1e-6, max_iter=50)"
      ]
    }
  ]
}